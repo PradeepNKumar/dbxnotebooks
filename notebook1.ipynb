# Sample Python code to create a Spark DataFrame and display it

data = [
    ("Alice", 34),
    ("Bob", 45),
    ("Cathy", 29)
]

columns = ["Name", "Age"]

df = spark.createDataFrame(data, columns)

display(df)
